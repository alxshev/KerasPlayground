{
 "cells": [
  {
   "cell_type": "code",
   "execution_count": 1,
   "metadata": {},
   "outputs": [],
   "source": [
    "import tensorflow.keras as keras\n",
    "(x_train, y_train), (x_test, y_test) = keras.datasets.reuters.load_data(num_words=10_000)\n"
   ]
  },
  {
   "cell_type": "code",
   "execution_count": 2,
   "metadata": {},
   "outputs": [],
   "source": [
    "import numpy as np\n",
    "from tensorflow.keras.utils import to_categorical\n",
    "# Preproccessing\n",
    "def V(data, dim=10_000):\n",
    "    vec = np.zeros((len(data), dim))\n",
    "    for i, x in enumerate(data):\n",
    "        vec[i, x] = 1\n",
    "    return vec\n",
    "\n",
    "x_vec_train = V(x_train)\n",
    "x_vec_test = V(x_test)\n",
    "y_vec_train = to_categorical(y_train)\n",
    "y_vec_test = to_categorical(y_test)"
   ]
  },
  {
   "cell_type": "code",
   "execution_count": 3,
   "metadata": {},
   "outputs": [
    {
     "name": "stdout",
     "output_type": "stream",
     "text": [
      "(8982,)\n"
     ]
    }
   ],
   "source": [
    "# Make the model\n",
    "print(x_train.shape)\n",
    "model = keras.models.Sequential()\n",
    "model.add(keras.layers.Dense(64, activation='relu', input_shape=(10_000, )))\n",
    "model.add(keras.layers.Dense(64, activation='relu'))\n",
    "model.add(keras.layers.Dense(46, activation='softmax'))\n",
    "model.compile(optimizer='rmsprop',\n",
    "             loss='categorical_crossentropy',\n",
    "             metrics=['accuracy'])\n"
   ]
  },
  {
   "cell_type": "code",
   "execution_count": 4,
   "metadata": {},
   "outputs": [
    {
     "name": "stdout",
     "output_type": "stream",
     "text": [
      "[ 3  4  3 ... 25  3 25]\n",
      "Epoch 1/20\n",
      "16/16 [==============================] - 1s 55ms/step - loss: 2.6313 - accuracy: 0.5003 - val_loss: 1.7714 - val_accuracy: 0.6150\n",
      "Epoch 2/20\n",
      "16/16 [==============================] - 0s 27ms/step - loss: 1.4755 - accuracy: 0.6830 - val_loss: 1.3593 - val_accuracy: 0.7050\n",
      "Epoch 3/20\n",
      "16/16 [==============================] - 1s 37ms/step - loss: 1.1046 - accuracy: 0.7573 - val_loss: 1.1722 - val_accuracy: 0.7520\n",
      "Epoch 4/20\n",
      "16/16 [==============================] - 0s 31ms/step - loss: 0.8720 - accuracy: 0.8138 - val_loss: 1.0679 - val_accuracy: 0.7660\n",
      "Epoch 5/20\n",
      "16/16 [==============================] - 0s 26ms/step - loss: 0.6980 - accuracy: 0.8520 - val_loss: 1.0096 - val_accuracy: 0.7770\n",
      "Epoch 6/20\n",
      "16/16 [==============================] - 0s 24ms/step - loss: 0.5598 - accuracy: 0.8820 - val_loss: 0.9610 - val_accuracy: 0.8020\n",
      "Epoch 7/20\n",
      "16/16 [==============================] - 0s 22ms/step - loss: 0.4477 - accuracy: 0.9049 - val_loss: 0.9296 - val_accuracy: 0.8130\n",
      "Epoch 8/20\n",
      "16/16 [==============================] - 0s 26ms/step - loss: 0.3662 - accuracy: 0.9243 - val_loss: 0.8909 - val_accuracy: 0.8190\n",
      "Epoch 9/20\n",
      "16/16 [==============================] - 0s 27ms/step - loss: 0.3001 - accuracy: 0.9360 - val_loss: 0.8941 - val_accuracy: 0.8160\n",
      "Epoch 10/20\n",
      "16/16 [==============================] - 0s 27ms/step - loss: 0.2524 - accuracy: 0.9425 - val_loss: 0.9159 - val_accuracy: 0.8060\n",
      "Epoch 11/20\n",
      "16/16 [==============================] - 0s 24ms/step - loss: 0.2157 - accuracy: 0.9479 - val_loss: 0.9212 - val_accuracy: 0.8090\n",
      "Epoch 12/20\n",
      "16/16 [==============================] - 0s 25ms/step - loss: 0.1919 - accuracy: 0.9515 - val_loss: 0.9268 - val_accuracy: 0.8120\n",
      "Epoch 13/20\n",
      "16/16 [==============================] - 0s 28ms/step - loss: 0.1678 - accuracy: 0.9531 - val_loss: 0.9477 - val_accuracy: 0.8150\n",
      "Epoch 14/20\n",
      "16/16 [==============================] - 0s 28ms/step - loss: 0.1515 - accuracy: 0.9560 - val_loss: 0.9458 - val_accuracy: 0.8170\n",
      "Epoch 15/20\n",
      "16/16 [==============================] - 0s 29ms/step - loss: 0.1424 - accuracy: 0.9557 - val_loss: 0.9584 - val_accuracy: 0.8140\n",
      "Epoch 16/20\n",
      "16/16 [==============================] - 0s 28ms/step - loss: 0.1318 - accuracy: 0.9563 - val_loss: 0.9962 - val_accuracy: 0.8150\n",
      "Epoch 17/20\n",
      "16/16 [==============================] - 0s 24ms/step - loss: 0.1272 - accuracy: 0.9570 - val_loss: 0.9987 - val_accuracy: 0.8110\n",
      "Epoch 18/20\n",
      "16/16 [==============================] - 0s 23ms/step - loss: 0.1225 - accuracy: 0.9548 - val_loss: 1.0056 - val_accuracy: 0.8190\n",
      "Epoch 19/20\n",
      "16/16 [==============================] - 0s 27ms/step - loss: 0.1148 - accuracy: 0.9583 - val_loss: 1.0767 - val_accuracy: 0.8020\n",
      "Epoch 20/20\n",
      "16/16 [==============================] - 0s 25ms/step - loss: 0.1136 - accuracy: 0.9574 - val_loss: 1.0617 - val_accuracy: 0.8070\n"
     ]
    }
   ],
   "source": [
    "print(y_train)\n",
    "x_val, partial_x_train = x_vec_train[:1000], x_vec_train[1000:]\n",
    "y_val, partial_y_train = y_vec_train[:1000], y_vec_train[1000:]\n",
    "history = model.fit(partial_x_train,\n",
    "                   partial_y_train,\n",
    "                   epochs=20,\n",
    "                   batch_size=512,\n",
    "                   validation_data=(x_val, y_val))\n"
   ]
  },
  {
   "cell_type": "code",
   "execution_count": 5,
   "metadata": {},
   "outputs": [
    {
     "data": {
      "text/plain": [
       "<matplotlib.legend.Legend at 0x21894e5e370>"
      ]
     },
     "execution_count": 5,
     "metadata": {},
     "output_type": "execute_result"
    },
    {
     "data": {
      "image/png": "[encoded data removed]",
      "text/plain": [
       "<Figure size 432x288 with 1 Axes>"
      ]
     },
     "metadata": {
      "needs_background": "light"
     },
     "output_type": "display_data"
    }
   ],
   "source": [
    "import matplotlib.pyplot as plt\n",
    "hist = history.history\n",
    "epochs = range(1, 21)\n",
    "plt.plot(epochs, hist['loss'], label='training loss')\n",
    "plt.plot(epochs, hist['val_loss'], label='validation loss')\n",
    "plt.legend()"
   ]
  },
  {
   "cell_type": "code",
   "execution_count": 6,
   "metadata": {},
   "outputs": [
    {
     "ename": "NameError",
     "evalue": "name 'yT' is not defined",
     "output_type": "error",
     "traceback": [
      "\u001b[1;31m---------------------------------------------------------------------------\u001b[0m",
      "\u001b[1;31mNameError\u001b[0m                                 Traceback (most recent call last)",
      "\u001b[1;32m<ipython-input-6-e7b97e87d8be>\u001b[0m in \u001b[0;36m<module>\u001b[1;34m\u001b[0m\n\u001b[0;32m      1\u001b[0m \u001b[0mpredictions\u001b[0m \u001b[1;33m=\u001b[0m \u001b[0mmodel\u001b[0m\u001b[1;33m.\u001b[0m\u001b[0mpredict\u001b[0m\u001b[1;33m(\u001b[0m\u001b[0mx_val\u001b[0m\u001b[1;33m)\u001b[0m\u001b[1;33m\u001b[0m\u001b[1;33m\u001b[0m\u001b[0m\n\u001b[1;32m----> 2\u001b[1;33m \u001b[0mM\u001b[0m \u001b[1;33m=\u001b[0m \u001b[0mpredictions\u001b[0m \u001b[1;33m-\u001b[0m \u001b[0myT\u001b[0m\u001b[1;33m\u001b[0m\u001b[1;33m\u001b[0m\u001b[0m\n\u001b[0m\u001b[0;32m      3\u001b[0m \u001b[0mprint\u001b[0m\u001b[1;33m(\u001b[0m\u001b[0mM\u001b[0m \u001b[1;33m@\u001b[0m \u001b[0mM\u001b[0m\u001b[1;33m)\u001b[0m\u001b[1;33m\u001b[0m\u001b[1;33m\u001b[0m\u001b[0m\n",
      "\u001b[1;31mNameError\u001b[0m: name 'yT' is not defined"
     ]
    }
   ],
   "source": [
    "predictions = model.predict(x_val)\n"
   ]
  }
 ],
 "metadata": {
  "kernelspec": {
   "display_name": "Python 3",
   "language": "python",
   "name": "python3"
  },
  "language_info": {
   "codemirror_mode": {
    "name": "ipython",
    "version": 3
   },
   "file_extension": ".py",
   "mimetype": "text/x-python",
   "name": "python",
   "nbconvert_exporter": "python",
   "pygments_lexer": "ipython3",
   "version": "3.8.3"
  }
 },
 "nbformat": 4,
 "nbformat_minor": 4
}

{
 "cells": [
  {
   "cell_type": "code",
   "execution_count": 108,
   "metadata": {},
   "outputs": [],
   "source": [
    "from tensorflow import keras as k\n",
    "(x, y), (xT, yT) = k.datasets.boston_housing.load_data()\n"
   ]
  },
  {
   "cell_type": "code",
   "execution_count": 109,
   "metadata": {},
   "outputs": [],
   "source": [
    "# Preprocessing\n",
    "x = (x - x.mean()) / x.std()\n",
    "xT = (xT - xT.mean()) / xT.std()"
   ]
  },
  {
   "cell_type": "code",
   "execution_count": 110,
   "metadata": {},
   "outputs": [
    {
     "name": "stdout",
     "output_type": "stream",
     "text": [
      "(404, 13)\n"
     ]
    }
   ],
   "source": [
    "print(x.shape)\n",
    "def build_model():\n",
    "    model = k.models.Sequential()\n",
    "    model.add(k.layers.Dense(64, activation='relu', input_shape=(13, )))\n",
    "    model.add(k.layers.Dense(64, activation='relu'))\n",
    "    model.add(k.layers.Dense(1))\n",
    "    model.compile(optimizer='rmsprop', loss='mse', metrics=['mae'])\n",
    "    return model\n"
   ]
  },
  {
   "cell_type": "code",
   "execution_count": 111,
   "metadata": {},
   "outputs": [],
   "source": [
    "def train_model(epoch):\n",
    "    model = build_model()\n",
    "    xVal, xTrain = x[:10], x[10:]\n",
    "    yVal, yTrain = y[:10], y[10:]\n",
    "    history = model.fit(xTrain, yTrain, epochs=epoch, validation_data=(xVal, yVal))\n",
    "    return (history, model)"
   ]
  },
  {
   "cell_type": "code",
   "execution_count": 112,
   "metadata": {},
   "outputs": [
    {
     "name": "stdout",
     "output_type": "stream",
     "text": [
      "Epoch 1/6\n",
      "13/13 [==============================] - 0s 10ms/step - loss: 514.7386 - mae: 20.7245 - val_loss: 505.7288 - val_mae: 18.8428\n",
      "Epoch 2/6\n",
      "13/13 [==============================] - 0s 2ms/step - loss: 412.3280 - mae: 17.9315 - val_loss: 393.6961 - val_mae: 15.6381\n",
      "Epoch 3/6\n",
      "13/13 [==============================] - 0s 2ms/step - loss: 306.1022 - mae: 14.6673 - val_loss: 284.9509 - val_mae: 12.0194\n",
      "Epoch 4/6\n",
      "13/13 [==============================] - 0s 2ms/step - loss: 208.5162 - mae: 11.3515 - val_loss: 198.5092 - val_mae: 8.8362\n",
      "Epoch 5/6\n",
      "13/13 [==============================] - 0s 3ms/step - loss: 141.5151 - mae: 8.8562 - val_loss: 157.0912 - val_mae: 8.5475\n",
      "Epoch 6/6\n",
      "13/13 [==============================] - 0s 2ms/step - loss: 110.0031 - mae: 7.6661 - val_loss: 146.7688 - val_mae: 9.2909\n"
     ]
    },
    {
     "data": {
      "text/plain": [
       "<matplotlib.legend.Legend at 0x200daf576a0>"
      ]
     },
     "execution_count": 112,
     "metadata": {},
     "output_type": "execute_result"
    },
    {
     "data": {
      "image/png": "[encoded data removed]",
      "text/plain": [
       "<Figure size 432x288 with 1 Axes>"
      ]
     },
     "metadata": {
      "needs_background": "light"
     },
     "output_type": "display_data"
    }
   ],
   "source": [
    "import matplotlib.pyplot as plt\n",
    "epoch = 6\n",
    "(history, model) = train_model(epoch)\n",
    "hist = history.history\n",
    "epochs = range(1, epoch + 1)\n",
    "\n",
    "plt.plot(epochs, hist['loss'], label='test loss')\n",
    "plt.plot(epochs, hist['val_loss'], label='validation loss')\n",
    "plt.legend()"
   ]
  },
  {
   "cell_type": "code",
   "execution_count": 120,
   "metadata": {},
   "outputs": [
    {
     "name": "stdout",
     "output_type": "stream",
     "text": [
      "1/1 [==============================] - 0s 1ms/step - loss: 146.7688 - mae: 9.2909\n",
      "[146.76882934570312, 9.290925979614258]\n",
      "4/4 [==============================] - 0s 748us/step - loss: 114.2523 - mae: 7.9916\n",
      "[114.25225830078125, 7.991578578948975]\n"
     ]
    }
   ],
   "source": [
    "validationScore = model.evaluate(xVal, yVal)\n",
    "print(validationScore)\n",
    "testScore = model.evaluate(xT, yT)\n",
    "print(testScore)"
   ]
  },
  {
   "cell_type": "code",
   "execution_count": 124,
   "metadata": {},
   "outputs": [
    {
     "name": "stdout",
     "output_type": "stream",
     "text": [
      "Error is within 114.25 using hold out validation\n"
     ]
    }
   ],
   "source": [
    "import numpy as np\n",
    "pred = model.predict(xT)\n",
    "# print(u @ v.T)\n",
    "M = pred[:,0] - yT\n",
    "error = (M @ M) / len(yT)\n",
    "print(\"Error is within\", round(error, 2), \"using hold out validation\")"
   ]
  },
  {
   "cell_type": "code",
   "execution_count": 129,
   "metadata": {},
   "outputs": [
    {
     "name": "stdout",
     "output_type": "stream",
     "text": [
      "4\n",
      "Epoch 1/6\n",
      "10/10 [==============================] - 0s 2ms/step - loss: 554.6882 - mae: 21.7292\n",
      "Epoch 2/6\n",
      "10/10 [==============================] - 0s 1ms/step - loss: 472.5549 - mae: 19.6922\n",
      "Epoch 3/6\n",
      "10/10 [==============================] - 0s 1ms/step - loss: 387.7147 - mae: 17.3776\n",
      "Epoch 4/6\n",
      "10/10 [==============================] - 0s 1ms/step - loss: 298.7039 - mae: 14.5857\n",
      "Epoch 5/6\n",
      "10/10 [==============================] - 0s 1ms/step - loss: 218.8743 - mae: 11.8977\n",
      "Epoch 6/6\n",
      "10/10 [==============================] - 0s 1ms/step - loss: 155.0386 - mae: 9.3973\n",
      "4/4 [==============================] - 0s 1ms/step - loss: 137.0022 - mae: 8.5177\n",
      "Epoch 1/6\n",
      "10/10 [==============================] - 0s 1ms/step - loss: 553.2073 - mae: 21.5134\n",
      "Epoch 2/6\n",
      "10/10 [==============================] - 0s 994us/step - loss: 474.2892 - mae: 19.5216\n",
      "Epoch 3/6\n",
      "10/10 [==============================] - 0s 1ms/step - loss: 392.2339 - mae: 17.2572\n",
      "Epoch 4/6\n",
      "10/10 [==============================] - 0s 1ms/step - loss: 306.8337 - mae: 14.5310\n",
      "Epoch 5/6\n",
      "10/10 [==============================] - 0s 1ms/step - loss: 225.2000 - mae: 11.7493\n",
      "Epoch 6/6\n",
      "10/10 [==============================] - 0s 1ms/step - loss: 160.1346 - mae: 9.3748\n",
      "4/4 [==============================] - 0s 1ms/step - loss: 113.2096 - mae: 7.9704\n",
      "Epoch 1/6\n",
      "10/10 [==============================] - 0s 768us/step - loss: 545.9276 - mae: 21.2868\n",
      "Epoch 2/6\n",
      "10/10 [==============================] - 0s 997us/step - loss: 443.7784 - mae: 18.6747\n",
      "Epoch 3/6\n",
      "10/10 [==============================] - 0s 1ms/step - loss: 349.5128 - mae: 15.8473\n",
      "Epoch 4/6\n",
      "10/10 [==============================] - 0s 1ms/step - loss: 263.8230 - mae: 13.0140\n",
      "Epoch 5/6\n",
      "10/10 [==============================] - 0s 997us/step - loss: 193.6891 - mae: 10.6109\n",
      "Epoch 6/6\n",
      "10/10 [==============================] - 0s 898us/step - loss: 147.4352 - mae: 8.9868\n",
      "1/4 [======>.......................] - ETA: 0s - loss: 84.5790 - mae: 7.0159WARNING:tensorflow:Callbacks method `on_test_batch_end` is slow compared to the batch time (batch time: 0.0000s vs `on_test_batch_end` time: 0.0010s). Check your callbacks.\n",
      "4/4 [==============================] - 0s 2ms/step - loss: 97.0628 - mae: 7.4792\n",
      "Epoch 1/6\n",
      "10/10 [==============================] - 0s 793us/step - loss: 503.0301 - mae: 20.6439\n",
      "Epoch 2/6\n",
      "10/10 [==============================] - 0s 698us/step - loss: 430.6465 - mae: 18.7521\n",
      "Epoch 3/6\n",
      "10/10 [==============================] - 0s 1ms/step - loss: 352.6819 - mae: 16.5449\n",
      "Epoch 4/6\n",
      "10/10 [==============================] - 0s 1ms/step - loss: 268.3592 - mae: 13.8025\n",
      "Epoch 5/6\n",
      "10/10 [==============================] - 0s 1ms/step - loss: 193.4339 - mae: 11.0692\n",
      "Epoch 6/6\n",
      "10/10 [==============================] - 0s 1ms/step - loss: 137.3239 - mae: 8.7718\n",
      "4/4 [==============================] - 0s 905us/step - loss: 166.6326 - mae: 9.1467\n",
      "[8.517682075500488, 7.970382213592529, 7.479236125946045, 9.146738052368164]\n"
     ]
    }
   ],
   "source": [
    "# Using K fold validation\n",
    "def train_model_kfold(epoch, xTrain, yTrain):\n",
    "    model = build_model()\n",
    "    model.fit(xTrain, yTrain, epochs=epoch)\n",
    "    return model\n",
    "N = 4\n",
    "xList = np.split(x, N)\n",
    "yList = np.split(y, N)\n",
    "print(len(arr_lst))\n",
    "\n",
    "errors = []\n",
    "for i in range(N):\n",
    "    testX = np.concatenate(xList[:i] + xList[i+1:])\n",
    "    testY = np.concatenate(yList[:i] + yList[i+1:])\n",
    "    modelK = train_model_kfold(epoch, testX, testY)\n",
    "    errors.append(modelK.evaluate(xList[i], yList[i])[1])\n",
    "print(errors)\n",
    "    "
   ]
  },
  {
   "cell_type": "code",
   "execution_count": 141,
   "metadata": {},
   "outputs": [
    {
     "name": "stdout",
     "output_type": "stream",
     "text": [
      "8.278509616851807\n"
     ]
    }
   ],
   "source": [
    "print(np.array(errors).mean())"
   ]
  }
 ],
 "metadata": {
  "kernelspec": {
   "display_name": "Python 3",
   "language": "python",
   "name": "python3"
  },
  "language_info": {
   "codemirror_mode": {
    "name": "ipython",
    "version": 3
   },
   "file_extension": ".py",
   "mimetype": "text/x-python",
   "name": "python",
   "nbconvert_exporter": "python",
   "pygments_lexer": "ipython3",
   "version": "3.8.3"
  }
 },
 "nbformat": 4,
 "nbformat_minor": 4
}
